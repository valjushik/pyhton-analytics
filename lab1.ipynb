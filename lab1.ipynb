{
 "cells": [
  {
   "cell_type": "markdown",
   "id": "1fe78130",
   "metadata": {},
   "source": [
    "# Домашнее задание 1"
   ]
  },
  {
   "cell_type": "markdown",
   "id": "f32f9ffe",
   "metadata": {},
   "source": [
    "## Задание 1"
   ]
  },
  {
   "cell_type": "markdown",
   "id": "a6e6455d",
   "metadata": {},
   "source": [
    "## Задание 2"
   ]
  },
  {
   "cell_type": "code",
   "execution_count": 1,
   "id": "c15cf2bd",
   "metadata": {},
   "outputs": [
    {
     "name": "stdout",
     "output_type": "stream",
     "text": [
      "Количество: 15\n"
     ]
    }
   ],
   "source": [
    "def total_fruits(fruit_ditc: dict) -> int:\n",
    "    result = sum(fruit_ditc.values())\n",
    "    return result\n",
    "        \n",
    "fruits = {'фрукт1': 1, 'фрукт2': 2, 'фрукт3': 3, 'фрукт4': 4, 'фрукт5': 5}\n",
    "print(\"Количество:\", total_fruits(fruits))"
   ]
  },
  {
   "cell_type": "markdown",
   "id": "e82c9859",
   "metadata": {},
   "source": [
    "## Задание 3"
   ]
  },
  {
   "cell_type": "code",
   "execution_count": 2,
   "id": "9a830c93",
   "metadata": {},
   "outputs": [
    {
     "name": "stdout",
     "output_type": "stream",
     "text": [
      "Сумма: 1425\n"
     ]
    }
   ],
   "source": [
    "sum = 0\n",
    "numbers = [100, 125, -90, 345, 655, -1, 0, 200]\n",
    "for i in range(len(numbers)):\n",
    "    if numbers[i] > 0:\n",
    "        sum = sum + numbers[i]\n",
    "        i = i + 1\n",
    "    else:\n",
    "        i = i + 1\n",
    "print(\"Сумма:\", sum)"
   ]
  },
  {
   "cell_type": "markdown",
   "id": "5aadf16e",
   "metadata": {},
   "source": [
    "## Задание 4"
   ]
  },
  {
   "cell_type": "code",
   "execution_count": 3,
   "id": "bfdd2c98",
   "metadata": {},
   "outputs": [],
   "source": [
    "date = ['2021-09-14', '2021-12-15', '2021-09-08', '2021-12-05', '2021-10-09', \n",
    "        '2021-09-30', '2021-12-22', '2021-11-29', '2021-12-24', '2021-11-26', \n",
    "        '2021-10-27', '2021-12-18', '2021-11-09', '2021-11-23', '2021-09-27', \n",
    "        '2021-10-02', '2021-12-27', '2021-09-20', '2021-12-13', '2021-11-01', \n",
    "        '2021-11-09', '2021-12-06', '2021-12-08', '2021-10-09', '2021-10-31', \n",
    "        '2021-09-30', '2021-11-09', '2021-12-13', '2021-10-26', '2021-12-09']\n",
    "revenue = [1270, 8413, 9028, 3703, 5739, 4095, 295, 4944, 5723, 3701, \n",
    "        4471, 651, 7037, 4274, 6275, 4988, 6930, 2971, 6592, 2004, \n",
    "        2822, 519, 3406, 2732, 5015, 2008, 316, 6333, 5700, 2887]\n"
   ]
  },
  {
   "cell_type": "markdown",
   "id": "9f0145f1",
   "metadata": {},
   "source": [
    "### Задание 4.1"
   ]
  },
  {
   "cell_type": "code",
   "execution_count": 4,
   "id": "c892e417",
   "metadata": {},
   "outputs": [
    {
     "name": "stdout",
     "output_type": "stream",
     "text": [
      "Выручка в ноябре 25098\n"
     ]
    }
   ],
   "source": [
    "november_amount = 0\n",
    "\n",
    "for i in range(len(date)):\n",
    "    if date[i].split('-')[1] == '11':\n",
    "        november_amount = november_amount + revenue[i]\n",
    "        i = i + 1\n",
    "    else:\n",
    "        i = i + 1\n",
    "print(\"Выручка в ноябре\", november_amount)"
   ]
  },
  {
   "cell_type": "markdown",
   "id": "00acaf60",
   "metadata": {},
   "source": [
    "### Задание 4.2"
   ]
  },
  {
   "cell_type": "code",
   "execution_count": 5,
   "id": "bb3ec938",
   "metadata": {},
   "outputs": [
    {
     "name": "stdout",
     "output_type": "stream",
     "text": [
      "{'Сентябрь': 25647, 'Декабрь': 45452, 'Октябрь': 28645, 'Ноябрь': 25098}\n"
     ]
    }
   ],
   "source": [
    "def month_switch(month: str) -> str:\n",
    "    result = month\n",
    "    match result:\n",
    "        case '01':\n",
    "            return \"Январь\"\n",
    "        case '02':\n",
    "            return \"Февраль\"\n",
    "        case '03':\n",
    "            return \"Март\"\n",
    "        case '04':\n",
    "            return \"Апрель\"\n",
    "        case '05':\n",
    "            return \"Май\"\n",
    "        case '06':\n",
    "            return \"Июнь\"\n",
    "        case '07':\n",
    "            return \"Июль\"\n",
    "        case '08':\n",
    "            return \"Август\"\n",
    "        case '09':\n",
    "            return \"Сентябрь\"\n",
    "        case '10':\n",
    "            return \"Октябрь\"\n",
    "        case '11':\n",
    "            return \"Ноябрь\"\n",
    "        case '12':\n",
    "            return \"Декабрь\"\n",
    "        case _:\n",
    "            return \"Не известно\"\n",
    "\n",
    "def month_revenue(dates: list, costs: list) -> dict:\n",
    "    result = {} \n",
    "    for date, amount in zip(dates, costs): \n",
    "        result[month_switch(date.split('-')[1])] = result.get(month_switch(date.split('-')[1]), 0) + amount \n",
    "    return result\n",
    "\n",
    "print(month_revenue(date, revenue))"
   ]
  },
  {
   "cell_type": "code",
   "execution_count": null,
   "id": "cfe7313e",
   "metadata": {},
   "outputs": [],
   "source": []
  },
  {
   "cell_type": "code",
   "execution_count": null,
   "id": "189b4c7c",
   "metadata": {},
   "outputs": [],
   "source": []
  },
  {
   "cell_type": "code",
   "execution_count": null,
   "id": "9cd29e4a",
   "metadata": {},
   "outputs": [],
   "source": []
  },
  {
   "cell_type": "code",
   "execution_count": null,
   "id": "d667444e",
   "metadata": {},
   "outputs": [],
   "source": []
  }
 ],
 "metadata": {
  "kernelspec": {
   "display_name": "Python 3 (ipykernel)",
   "language": "python",
   "name": "python3"
  },
  "language_info": {
   "codemirror_mode": {
    "name": "ipython",
    "version": 3
   },
   "file_extension": ".py",
   "mimetype": "text/x-python",
   "name": "python",
   "nbconvert_exporter": "python",
   "pygments_lexer": "ipython3",
   "version": "3.10.0"
  }
 },
 "nbformat": 4,
 "nbformat_minor": 5
}
